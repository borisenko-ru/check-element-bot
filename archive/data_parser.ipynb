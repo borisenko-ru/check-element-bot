{
 "cells": [
  {
   "cell_type": "code",
   "execution_count": 7,
   "metadata": {},
   "outputs": [],
   "source": [
    "import pandas as pd\n",
    "import requests\n",
    "import numpy as np\n",
    "from bs4 import BeautifulSoup\n",
    "from tabulate import tabulate\n",
    "import re"
   ]
  },
  {
   "cell_type": "code",
   "execution_count": 8,
   "metadata": {
    "scrolled": true
   },
   "outputs": [],
   "source": [
    "\"\"\"Collect data from a website\n",
    "\n",
    "Create function for website parsing of chemical elements basic information.\n",
    "\"\"\"\n",
    "\n",
    "\n",
    "def elements_data():\n",
    "    url = 'https://images-of-elements.com/element-properties.php'\n",
    "    website = requests.get(url).text\n",
    "    soup = BeautifulSoup(website, 'lxml')\n",
    "    table = soup.find_all('table')[1]\n",
    "    rows = table.find_all('tr')\n",
    "    field_list = []\n",
    "\n",
    "    for i in range(12):\n",
    "        col = []\n",
    "        # add header\n",
    "        col.append(rows[0].find_all('th')[i].get_text().strip())\n",
    "        # start with second row as first one was taken earlier\n",
    "        for row in rows[1:]:\n",
    "            try:\n",
    "                # find all tags td in a row\n",
    "                r = row.find_all('td')\n",
    "                # save data to a list\n",
    "                col.append(r[i].get_text().strip())\n",
    "            except:\n",
    "                pass\n",
    "        field_list.append(col)\n",
    "    d = dict()\n",
    "    for i in range(12):\n",
    "        d[field_list[i][0]] = field_list[i][1:]\n",
    "    df = pd.DataFrame(d)\n",
    "    df = df.rename(columns={'Valence el.': 'Valence',\n",
    "                            'Stable isotopes': 'StableIsotopes',\n",
    "                            'Melting point': 'MeltingPoint',\n",
    "                            'Boiling point': 'BoilingPoint'})\n",
    "    df = df.replace('', np.nan)\n",
    "\n",
    "    radius_note = 'Unknown'\n",
    "    valence_note = 'For this element valence is meaningless and therefore omitted'\n",
    "    melting_point_note = 'Unknown'\n",
    "    stable_isotopes_note = 'Does not have any stable nuclides'\n",
    "    boiling_point_note = 'Unknown'\n",
    "    density_note = 'Unknown'\n",
    "    df['Radius'].fillna(radius_note, inplace=True)\n",
    "    df['Valence'].fillna(valence_note, inplace=True)\n",
    "    df['MeltingPoint'].fillna(melting_point_note, inplace=True)\n",
    "    df['StableIsotopes'].fillna(stable_isotopes_note, inplace=True)\n",
    "    df['BoilingPoint'].fillna(boiling_point_note, inplace=True)\n",
    "    df['Density'].fillna(density_note, inplace=True)\n",
    "\n",
    "    return df"
   ]
  },
  {
   "cell_type": "code",
   "execution_count": 9,
   "metadata": {},
   "outputs": [],
   "source": [
    "from tabulate import tabulate "
   ]
  },
  {
   "cell_type": "code",
   "execution_count": 4,
   "metadata": {
    "scrolled": true
   },
   "outputs": [
    {
     "name": "stdout",
     "output_type": "stream",
     "text": [
      "Symbol - He\n",
      "Characteristic - Mass\n",
      "+----------+--------+\n",
      "| Symbol   |   Mass |\n",
      "+==========+========+\n",
      "| He       |  4.003 |\n",
      "+----------+--------+\n"
     ]
    }
   ],
   "source": [
    "# single_characteristic\n",
    "symbol = input('Symbol - ')\n",
    "characteristic = input('Characteristic - ')\n",
    "x = elements_data()[['Symbol', characteristic]][elements_data()['Symbol']==symbol].reset_index(drop=True)\n",
    "print(tabulate(x, headers = x.columns, tablefmt=\"grid\", showindex=False))"
   ]
  },
  {
   "cell_type": "code",
   "execution_count": 5,
   "metadata": {
    "scrolled": true
   },
   "outputs": [
    {
     "name": "stdout",
     "output_type": "stream",
     "text": [
      "Symbol - O\n",
      "+----------------+--------+\n",
      "| Number         | 8      |\n",
      "+----------------+--------+\n",
      "| Period         | 2      |\n",
      "+----------------+--------+\n",
      "| Group          | 16     |\n",
      "+----------------+--------+\n",
      "| Symbol         | O      |\n",
      "+----------------+--------+\n",
      "| Name           | Oxygen |\n",
      "+----------------+--------+\n",
      "| Mass           | 15.999 |\n",
      "+----------------+--------+\n",
      "| Radius         | 60     |\n",
      "+----------------+--------+\n",
      "| Valence        | 6      |\n",
      "+----------------+--------+\n",
      "| StableIsotopes | 3      |\n",
      "+----------------+--------+\n",
      "| MeltingPoint   | 54.4   |\n",
      "+----------------+--------+\n",
      "| BoilingPoint   | 90.2   |\n",
      "+----------------+--------+\n",
      "| Density        | 1.33*  |\n",
      "+----------------+--------+\n"
     ]
    }
   ],
   "source": [
    "# full_description\n",
    "symbol = input('Symbol - ')\n",
    "x = elements_data()[['Number', 'Period', 'Group', 'Symbol', 'Name',\n",
    "                     'Mass', 'Radius', 'Valence', 'StableIsotopes',\n",
    "                     'MeltingPoint', 'BoilingPoint', 'Density']][elements_data()['Symbol']==symbol].reset_index(drop=True)\n",
    "x_tr = x.transpose()\n",
    "print(tabulate(x_tr, tablefmt=\"grid\"))"
   ]
  },
  {
   "cell_type": "code",
   "execution_count": null,
   "metadata": {},
   "outputs": [],
   "source": []
  }
 ],
 "metadata": {
  "kernelspec": {
   "display_name": "Python 3",
   "language": "python",
   "name": "python3"
  },
  "language_info": {
   "codemirror_mode": {
    "name": "ipython",
    "version": 3
   },
   "file_extension": ".py",
   "mimetype": "text/x-python",
   "name": "python",
   "nbconvert_exporter": "python",
   "pygments_lexer": "ipython3",
   "version": "3.8.5"
  }
 },
 "nbformat": 4,
 "nbformat_minor": 4
}
